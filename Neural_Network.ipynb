{
 "cells": [
  {
   "cell_type": "markdown",
   "id": "7f22c456",
   "metadata": {},
   "source": [
    "# BASIC IMPLEMENTATION OF NEURAL NETWORK"
   ]
  },
  {
   "cell_type": "code",
   "execution_count": 1,
   "id": "39e7278f",
   "metadata": {},
   "outputs": [],
   "source": [
    "import pandas as pd \n",
    "import numpy as np"
   ]
  },
  {
   "cell_type": "code",
   "execution_count": 2,
   "id": "252cebdb",
   "metadata": {},
   "outputs": [],
   "source": [
    "##Input array\n",
    "a=np.array([[0,0],[0,1],[1,1],[1,0]])"
   ]
  },
  {
   "cell_type": "code",
   "execution_count": 3,
   "id": "43062208",
   "metadata": {},
   "outputs": [
    {
     "name": "stdout",
     "output_type": "stream",
     "text": [
      "[[0 0]\n",
      " [0 1]\n",
      " [1 1]\n",
      " [1 0]]\n"
     ]
    }
   ],
   "source": [
    "print(a)"
   ]
  },
  {
   "cell_type": "code",
   "execution_count": 4,
   "id": "8e13d645",
   "metadata": {},
   "outputs": [
    {
     "data": {
      "text/plain": [
       "(4, 2)"
      ]
     },
     "execution_count": 4,
     "metadata": {},
     "output_type": "execute_result"
    }
   ],
   "source": [
    "a.shape"
   ]
  },
  {
   "cell_type": "code",
   "execution_count": 5,
   "id": "370142ea",
   "metadata": {},
   "outputs": [],
   "source": [
    "##Output array\n",
    "b=np.array([0,1,0,1])"
   ]
  },
  {
   "cell_type": "code",
   "execution_count": 6,
   "id": "b4fe31d4",
   "metadata": {},
   "outputs": [
    {
     "name": "stdout",
     "output_type": "stream",
     "text": [
      "[[0]\n",
      " [1]\n",
      " [0]\n",
      " [1]]\n"
     ]
    }
   ],
   "source": [
    "b=b.reshape(4,1)\n",
    "print(b)"
   ]
  },
  {
   "cell_type": "code",
   "execution_count": 7,
   "id": "5e2669b6",
   "metadata": {},
   "outputs": [
    {
     "data": {
      "text/plain": [
       "(4, 1)"
      ]
     },
     "execution_count": 7,
     "metadata": {},
     "output_type": "execute_result"
    }
   ],
   "source": [
    "b.shape"
   ]
  },
  {
   "cell_type": "markdown",
   "id": "bf06eae0",
   "metadata": {},
   "source": [
    "# out=w*x+b"
   ]
  },
  {
   "cell_type": "markdown",
   "id": "c62876af",
   "metadata": {},
   "source": [
    "# Assign Weights"
   ]
  },
  {
   "cell_type": "code",
   "execution_count": 8,
   "id": "0de6aa96",
   "metadata": {},
   "outputs": [],
   "source": [
    "weights=np.array([[.1],[.2]])"
   ]
  },
  {
   "cell_type": "markdown",
   "id": "836b1a8c",
   "metadata": {},
   "source": [
    "# Bias"
   ]
  },
  {
   "cell_type": "code",
   "execution_count": 9,
   "id": "2d4c8150",
   "metadata": {},
   "outputs": [],
   "source": [
    "bias=0.3"
   ]
  },
  {
   "cell_type": "markdown",
   "id": "c69769f2",
   "metadata": {},
   "source": [
    "# Activation function\n"
   ]
  },
  {
   "cell_type": "markdown",
   "id": "287a17ae",
   "metadata": {},
   "source": [
    "1/1+exp(-x)"
   ]
  },
  {
   "cell_type": "code",
   "execution_count": 10,
   "id": "809de977",
   "metadata": {},
   "outputs": [],
   "source": [
    "def sigmoid(x):\n",
    "    return 1/1+np.exp(-x)\n",
    "    "
   ]
  },
  {
   "cell_type": "code",
   "execution_count": 11,
   "id": "b09e4938",
   "metadata": {},
   "outputs": [],
   "source": [
    "def der_sig(x):\n",
    "    return sigmoid(x)*(1-sigmoid(x))"
   ]
  },
  {
   "cell_type": "code",
   "execution_count": 12,
   "id": "fe87624a",
   "metadata": {},
   "outputs": [
    {
     "name": "stdout",
     "output_type": "stream",
     "text": [
      "Updated weights:  [[25.3607106 ]\n",
      " [25.45187206]]\n",
      "Updated bias:  [50.73213758]\n",
      "0.5\n",
      "[[-0.50321472]\n",
      " [-0.50321472]]\n"
     ]
    }
   ],
   "source": [
    "for i in range(1000):\n",
    "    input_value=a\n",
    "    weighted_sum=np.dot(input_value,weights)+bias\n",
    "    first_output=sigmoid(weighted_sum)\n",
    "    \n",
    "    error=first_output-b\n",
    "    total_error=np.square(np.subtract(first_output,b)).mean()\n",
    "    \n",
    "    first_der=error\n",
    "    second_der=der_sig(first_output)\n",
    "    derivative=first_der*second_der\n",
    "    \n",
    "    t_input=a.T\n",
    "    final_der=np.dot(t_input,derivative)\n",
    "    \n",
    "    #weights update\n",
    "    weights=weights-0.05*final_der\n",
    "    \n",
    "    #update bias\n",
    "    for i in derivative:\n",
    "        bias=bias-0.05*i\n",
    "print(\"Updated weights: \",weights)\n",
    "print(\"Updated bias: \",bias)\n",
    "    \n",
    "    \n",
    "print(total_error)\n",
    "print(final_der)"
   ]
  },
  {
   "cell_type": "code",
   "execution_count": 13,
   "id": "a9ff54df",
   "metadata": {},
   "outputs": [],
   "source": [
    "# Convergence theorem to reduce cost function\n",
    "# const=cost-learning_rate(slope)\n",
    "# if negative slope add\n",
    "# if positive slope subtract"
   ]
  },
  {
   "cell_type": "code",
   "execution_count": 14,
   "id": "4ac097f4",
   "metadata": {},
   "outputs": [],
   "source": [
    "pred=np.array([[0,1]])\n",
    "res=np.dot(pred,weights)+bias\n",
    "result=sigmoid(res)"
   ]
  },
  {
   "cell_type": "code",
   "execution_count": 15,
   "id": "e40588c2",
   "metadata": {},
   "outputs": [
    {
     "data": {
      "text/plain": [
       "array([[1.]])"
      ]
     },
     "execution_count": 15,
     "metadata": {},
     "output_type": "execute_result"
    }
   ],
   "source": [
    "result"
   ]
  },
  {
   "cell_type": "code",
   "execution_count": null,
   "id": "3ff64923",
   "metadata": {},
   "outputs": [],
   "source": []
  }
 ],
 "metadata": {
  "kernelspec": {
   "display_name": "Python 3 (ipykernel)",
   "language": "python",
   "name": "python3"
  },
  "language_info": {
   "codemirror_mode": {
    "name": "ipython",
    "version": 3
   },
   "file_extension": ".py",
   "mimetype": "text/x-python",
   "name": "python",
   "nbconvert_exporter": "python",
   "pygments_lexer": "ipython3",
   "version": "3.10.9"
  }
 },
 "nbformat": 4,
 "nbformat_minor": 5
}
